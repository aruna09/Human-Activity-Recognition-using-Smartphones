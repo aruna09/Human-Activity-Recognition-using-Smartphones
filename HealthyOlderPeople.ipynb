{
 "cells": [
  {
   "cell_type": "code",
   "execution_count": 34,
   "metadata": {},
   "outputs": [],
   "source": [
    "import pandas as pd\n",
    "import numpy as np\n",
    "import glob\n",
    "from sklearn.preprocessing import Normalizer\n",
    "from sklearn.linear_model import LogisticRegression\n",
    "from sklearn.model_selection import train_test_split,GridSearchCV\n",
    "from sklearn.metrics import accuracy_score\n",
    "from sklearn.neighbors import KNeighborsClassifier\n",
    "from sklearn.ensemble import RandomForestClassifier\n",
    "from sklearn import tree\n",
    "import matplotlib.pyplot as plt\n",
    "import seaborn as sb"
   ]
  },
  {
   "cell_type": "code",
   "execution_count": 2,
   "metadata": {},
   "outputs": [],
   "source": [
    "import warnings\n",
    "warnings.filterwarnings('ignore')"
   ]
  },
  {
   "cell_type": "code",
   "execution_count": 3,
   "metadata": {},
   "outputs": [
    {
     "name": "stdout",
     "output_type": "stream",
     "text": [
      "['Datasets_Healthy_Older_People/S1_Dataset\\\\d1p01M', 'Datasets_Healthy_Older_People/S1_Dataset\\\\d1p02M', 'Datasets_Healthy_Older_People/S1_Dataset\\\\d1p03M', 'Datasets_Healthy_Older_People/S1_Dataset\\\\d1p04M', 'Datasets_Healthy_Older_People/S1_Dataset\\\\d1p05M', 'Datasets_Healthy_Older_People/S1_Dataset\\\\d1p06M', 'Datasets_Healthy_Older_People/S1_Dataset\\\\d1p07M', 'Datasets_Healthy_Older_People/S1_Dataset\\\\d1p08F', 'Datasets_Healthy_Older_People/S1_Dataset\\\\d1p09F', 'Datasets_Healthy_Older_People/S1_Dataset\\\\d1p10F', 'Datasets_Healthy_Older_People/S1_Dataset\\\\d1p11F', 'Datasets_Healthy_Older_People/S1_Dataset\\\\d1p12F', 'Datasets_Healthy_Older_People/S1_Dataset\\\\d1p13F', 'Datasets_Healthy_Older_People/S1_Dataset\\\\d1p14F', 'Datasets_Healthy_Older_People/S1_Dataset\\\\d1p15F', 'Datasets_Healthy_Older_People/S1_Dataset\\\\d1p16F', 'Datasets_Healthy_Older_People/S1_Dataset\\\\d1p17F', 'Datasets_Healthy_Older_People/S1_Dataset\\\\d1p18F', 'Datasets_Healthy_Older_People/S1_Dataset\\\\d1p19F', 'Datasets_Healthy_Older_People/S1_Dataset\\\\d1p20F', 'Datasets_Healthy_Older_People/S1_Dataset\\\\d1p21F', 'Datasets_Healthy_Older_People/S1_Dataset\\\\d1p22F', 'Datasets_Healthy_Older_People/S1_Dataset\\\\d1p23F', 'Datasets_Healthy_Older_People/S1_Dataset\\\\d1p24F', 'Datasets_Healthy_Older_People/S1_Dataset\\\\d1p25F', 'Datasets_Healthy_Older_People/S1_Dataset\\\\d1p26F', 'Datasets_Healthy_Older_People/S1_Dataset\\\\d1p27F', 'Datasets_Healthy_Older_People/S1_Dataset\\\\d1p28F', 'Datasets_Healthy_Older_People/S1_Dataset\\\\d1p29F', 'Datasets_Healthy_Older_People/S1_Dataset\\\\d1p30F', 'Datasets_Healthy_Older_People/S1_Dataset\\\\d1p31F', 'Datasets_Healthy_Older_People/S1_Dataset\\\\d1p32F', 'Datasets_Healthy_Older_People/S1_Dataset\\\\d1p33F', 'Datasets_Healthy_Older_People/S1_Dataset\\\\d1p34F', 'Datasets_Healthy_Older_People/S1_Dataset\\\\d1p35F', 'Datasets_Healthy_Older_People/S1_Dataset\\\\d1p36M', 'Datasets_Healthy_Older_People/S1_Dataset\\\\d1p37M', 'Datasets_Healthy_Older_People/S1_Dataset\\\\d1p38M', 'Datasets_Healthy_Older_People/S1_Dataset\\\\d1p39M', 'Datasets_Healthy_Older_People/S1_Dataset\\\\d1p40M', 'Datasets_Healthy_Older_People/S1_Dataset\\\\d1p41M', 'Datasets_Healthy_Older_People/S1_Dataset\\\\d1p42M', 'Datasets_Healthy_Older_People/S1_Dataset\\\\d1p43M', 'Datasets_Healthy_Older_People/S1_Dataset\\\\d1p44M', 'Datasets_Healthy_Older_People/S1_Dataset\\\\d1p45M', 'Datasets_Healthy_Older_People/S1_Dataset\\\\d1p46M', 'Datasets_Healthy_Older_People/S1_Dataset\\\\d1p47M', 'Datasets_Healthy_Older_People/S1_Dataset\\\\d1p48M', 'Datasets_Healthy_Older_People/S1_Dataset\\\\d1p49F', 'Datasets_Healthy_Older_People/S1_Dataset\\\\d1p50F', 'Datasets_Healthy_Older_People/S1_Dataset\\\\d1p51F', 'Datasets_Healthy_Older_People/S1_Dataset\\\\d1p52F', 'Datasets_Healthy_Older_People/S1_Dataset\\\\d1p53F', 'Datasets_Healthy_Older_People/S1_Dataset\\\\d1p54F', 'Datasets_Healthy_Older_People/S1_Dataset\\\\d1p55F', 'Datasets_Healthy_Older_People/S1_Dataset\\\\d1p56F', 'Datasets_Healthy_Older_People/S1_Dataset\\\\d1p57F', 'Datasets_Healthy_Older_People/S1_Dataset\\\\d1p58F', 'Datasets_Healthy_Older_People/S1_Dataset\\\\d1p59F', 'Datasets_Healthy_Older_People/S1_Dataset\\\\d1p60F', 'Datasets_Healthy_Older_People/S1_Dataset\\\\README.txt']\n"
     ]
    }
   ],
   "source": [
    "#find all files in the S1_Dataset. Note:- remove the readme file.\n",
    "path=r'Datasets_Healthy_Older_People/S1_Dataset'\n",
    "all_files=glob.glob(path+'/*')\n",
    "print(all_files)"
   ]
  },
  {
   "cell_type": "code",
   "execution_count": 4,
   "metadata": {},
   "outputs": [],
   "source": [
    "li=[]\n",
    "for file in all_files:\n",
    "    #print(file)\n",
    "    if file.endswith('.txt'):\n",
    "        continue\n",
    "    df=pd.read_csv(file,header=None,index_col=None)\n",
    "    li.append(df)\n",
    "df1=pd.concat(li,axis=0,ignore_index=True)\n"
   ]
  },
  {
   "cell_type": "code",
   "execution_count": 24,
   "metadata": {},
   "outputs": [
    {
     "data": {
      "text/html": [
       "<div>\n",
       "<style scoped>\n",
       "    .dataframe tbody tr th:only-of-type {\n",
       "        vertical-align: middle;\n",
       "    }\n",
       "\n",
       "    .dataframe tbody tr th {\n",
       "        vertical-align: top;\n",
       "    }\n",
       "\n",
       "    .dataframe thead th {\n",
       "        text-align: right;\n",
       "    }\n",
       "</style>\n",
       "<table border=\"1\" class=\"dataframe\">\n",
       "  <thead>\n",
       "    <tr style=\"text-align: right;\">\n",
       "      <th></th>\n",
       "      <th>Time</th>\n",
       "      <th>Acc. Front</th>\n",
       "      <th>Acc. vert</th>\n",
       "      <th>Acc. Lat</th>\n",
       "      <th>id</th>\n",
       "      <th>RSSI</th>\n",
       "      <th>Phase</th>\n",
       "      <th>Freq</th>\n",
       "      <th>Activity</th>\n",
       "    </tr>\n",
       "  </thead>\n",
       "  <tbody>\n",
       "    <tr>\n",
       "      <th>0</th>\n",
       "      <td>0.00</td>\n",
       "      <td>0.27203</td>\n",
       "      <td>1.00820</td>\n",
       "      <td>-0.082102</td>\n",
       "      <td>1</td>\n",
       "      <td>-63.5</td>\n",
       "      <td>2.4252</td>\n",
       "      <td>924.25</td>\n",
       "      <td>1</td>\n",
       "    </tr>\n",
       "    <tr>\n",
       "      <th>1</th>\n",
       "      <td>0.50</td>\n",
       "      <td>0.27203</td>\n",
       "      <td>1.00820</td>\n",
       "      <td>-0.082102</td>\n",
       "      <td>1</td>\n",
       "      <td>-63.0</td>\n",
       "      <td>4.7369</td>\n",
       "      <td>921.75</td>\n",
       "      <td>1</td>\n",
       "    </tr>\n",
       "    <tr>\n",
       "      <th>2</th>\n",
       "      <td>1.50</td>\n",
       "      <td>0.44791</td>\n",
       "      <td>0.91636</td>\n",
       "      <td>-0.013684</td>\n",
       "      <td>1</td>\n",
       "      <td>-63.5</td>\n",
       "      <td>3.0311</td>\n",
       "      <td>923.75</td>\n",
       "      <td>1</td>\n",
       "    </tr>\n",
       "    <tr>\n",
       "      <th>3</th>\n",
       "      <td>1.75</td>\n",
       "      <td>0.44791</td>\n",
       "      <td>0.91636</td>\n",
       "      <td>-0.013684</td>\n",
       "      <td>1</td>\n",
       "      <td>-63.0</td>\n",
       "      <td>2.0371</td>\n",
       "      <td>921.25</td>\n",
       "      <td>1</td>\n",
       "    </tr>\n",
       "    <tr>\n",
       "      <th>4</th>\n",
       "      <td>2.50</td>\n",
       "      <td>0.34238</td>\n",
       "      <td>0.96229</td>\n",
       "      <td>-0.059296</td>\n",
       "      <td>1</td>\n",
       "      <td>-63.5</td>\n",
       "      <td>5.8920</td>\n",
       "      <td>920.25</td>\n",
       "      <td>1</td>\n",
       "    </tr>\n",
       "  </tbody>\n",
       "</table>\n",
       "</div>"
      ],
      "text/plain": [
       "   Time  Acc. Front  Acc. vert  Acc. Lat  id  RSSI   Phase    Freq  Activity\n",
       "0  0.00     0.27203    1.00820 -0.082102   1 -63.5  2.4252  924.25         1\n",
       "1  0.50     0.27203    1.00820 -0.082102   1 -63.0  4.7369  921.75         1\n",
       "2  1.50     0.44791    0.91636 -0.013684   1 -63.5  3.0311  923.75         1\n",
       "3  1.75     0.44791    0.91636 -0.013684   1 -63.0  2.0371  921.25         1\n",
       "4  2.50     0.34238    0.96229 -0.059296   1 -63.5  5.8920  920.25         1"
      ]
     },
     "execution_count": 24,
     "metadata": {},
     "output_type": "execute_result"
    }
   ],
   "source": [
    "df1.columns=['Time','Acc. Front','Acc. vert','Acc. Lat','id','RSSI','Phase','Freq','Activity']\n",
    "df1.head()\n"
   ]
  },
  {
   "cell_type": "code",
   "execution_count": 6,
   "metadata": {},
   "outputs": [
    {
     "data": {
      "text/plain": [
       "False"
      ]
     },
     "execution_count": 6,
     "metadata": {},
     "output_type": "execute_result"
    }
   ],
   "source": [
    "#check for null\n",
    "df1.isnull().values.any()"
   ]
  },
  {
   "cell_type": "markdown",
   "metadata": {},
   "source": [
    "## Normalization and Standardization"
   ]
  },
  {
   "cell_type": "code",
   "execution_count": 10,
   "metadata": {},
   "outputs": [],
   "source": [
    "#Standardize the inputs\n",
    "normalize=Normalizer()\n",
    "X=normalize.fit_transform(X)\n"
   ]
  },
  {
   "cell_type": "code",
   "execution_count": 22,
   "metadata": {},
   "outputs": [
    {
     "data": {
      "text/plain": [
       "array([1, 2, 3, 4], dtype=int64)"
      ]
     },
     "execution_count": 22,
     "metadata": {},
     "output_type": "execute_result"
    }
   ],
   "source": [
    "np.unique(df1['id'])"
   ]
  },
  {
   "cell_type": "markdown",
   "metadata": {},
   "source": [
    "## Statistics"
   ]
  },
  {
   "cell_type": "code",
   "execution_count": 36,
   "metadata": {},
   "outputs": [
    {
     "data": {
      "text/html": [
       "<div>\n",
       "<style scoped>\n",
       "    .dataframe tbody tr th:only-of-type {\n",
       "        vertical-align: middle;\n",
       "    }\n",
       "\n",
       "    .dataframe tbody tr th {\n",
       "        vertical-align: top;\n",
       "    }\n",
       "\n",
       "    .dataframe thead th {\n",
       "        text-align: right;\n",
       "    }\n",
       "</style>\n",
       "<table border=\"1\" class=\"dataframe\">\n",
       "  <thead>\n",
       "    <tr style=\"text-align: right;\">\n",
       "      <th></th>\n",
       "      <th>Time</th>\n",
       "      <th>Acc. Front</th>\n",
       "      <th>Acc. vert</th>\n",
       "      <th>Acc. Lat</th>\n",
       "      <th>id</th>\n",
       "      <th>RSSI</th>\n",
       "      <th>Phase</th>\n",
       "      <th>Freq</th>\n",
       "      <th>Activity</th>\n",
       "    </tr>\n",
       "  </thead>\n",
       "  <tbody>\n",
       "    <tr>\n",
       "      <th>count</th>\n",
       "      <td>52482.000000</td>\n",
       "      <td>52482.000000</td>\n",
       "      <td>52482.000000</td>\n",
       "      <td>52482.000000</td>\n",
       "      <td>52482.000000</td>\n",
       "      <td>52482.000000</td>\n",
       "      <td>52482.000000</td>\n",
       "      <td>52482.000000</td>\n",
       "      <td>52482.000000</td>\n",
       "    </tr>\n",
       "    <tr>\n",
       "      <th>mean</th>\n",
       "      <td>235.001862</td>\n",
       "      <td>0.805042</td>\n",
       "      <td>0.377804</td>\n",
       "      <td>0.007710</td>\n",
       "      <td>2.360752</td>\n",
       "      <td>-58.430814</td>\n",
       "      <td>3.275907</td>\n",
       "      <td>922.762261</td>\n",
       "      <td>2.375996</td>\n",
       "    </tr>\n",
       "    <tr>\n",
       "      <th>std</th>\n",
       "      <td>148.256886</td>\n",
       "      <td>0.396362</td>\n",
       "      <td>0.468899</td>\n",
       "      <td>0.180674</td>\n",
       "      <td>1.261542</td>\n",
       "      <td>4.611220</td>\n",
       "      <td>2.240341</td>\n",
       "      <td>1.693769</td>\n",
       "      <td>0.941795</td>\n",
       "    </tr>\n",
       "    <tr>\n",
       "      <th>min</th>\n",
       "      <td>0.000000</td>\n",
       "      <td>-0.748080</td>\n",
       "      <td>-0.553490</td>\n",
       "      <td>-0.481210</td>\n",
       "      <td>1.000000</td>\n",
       "      <td>-70.000000</td>\n",
       "      <td>0.000000</td>\n",
       "      <td>920.250000</td>\n",
       "      <td>1.000000</td>\n",
       "    </tr>\n",
       "    <tr>\n",
       "      <th>25%</th>\n",
       "      <td>117.980000</td>\n",
       "      <td>0.424460</td>\n",
       "      <td>-0.025263</td>\n",
       "      <td>-0.093505</td>\n",
       "      <td>1.000000</td>\n",
       "      <td>-61.500000</td>\n",
       "      <td>0.951070</td>\n",
       "      <td>921.250000</td>\n",
       "      <td>1.000000</td>\n",
       "    </tr>\n",
       "    <tr>\n",
       "      <th>50%</th>\n",
       "      <td>227.665000</td>\n",
       "      <td>0.952100</td>\n",
       "      <td>0.135500</td>\n",
       "      <td>-0.025087</td>\n",
       "      <td>3.000000</td>\n",
       "      <td>-57.500000</td>\n",
       "      <td>4.072700</td>\n",
       "      <td>922.750000</td>\n",
       "      <td>3.000000</td>\n",
       "    </tr>\n",
       "    <tr>\n",
       "      <th>75%</th>\n",
       "      <td>325.750000</td>\n",
       "      <td>1.128000</td>\n",
       "      <td>0.916360</td>\n",
       "      <td>0.066138</td>\n",
       "      <td>4.000000</td>\n",
       "      <td>-56.500000</td>\n",
       "      <td>5.425700</td>\n",
       "      <td>924.250000</td>\n",
       "      <td>3.000000</td>\n",
       "    </tr>\n",
       "    <tr>\n",
       "      <th>max</th>\n",
       "      <td>730.250000</td>\n",
       "      <td>1.503200</td>\n",
       "      <td>2.030200</td>\n",
       "      <td>1.217800</td>\n",
       "      <td>4.000000</td>\n",
       "      <td>-38.500000</td>\n",
       "      <td>6.281700</td>\n",
       "      <td>925.750000</td>\n",
       "      <td>4.000000</td>\n",
       "    </tr>\n",
       "  </tbody>\n",
       "</table>\n",
       "</div>"
      ],
      "text/plain": [
       "               Time    Acc. Front     Acc. vert      Acc. Lat            id  \\\n",
       "count  52482.000000  52482.000000  52482.000000  52482.000000  52482.000000   \n",
       "mean     235.001862      0.805042      0.377804      0.007710      2.360752   \n",
       "std      148.256886      0.396362      0.468899      0.180674      1.261542   \n",
       "min        0.000000     -0.748080     -0.553490     -0.481210      1.000000   \n",
       "25%      117.980000      0.424460     -0.025263     -0.093505      1.000000   \n",
       "50%      227.665000      0.952100      0.135500     -0.025087      3.000000   \n",
       "75%      325.750000      1.128000      0.916360      0.066138      4.000000   \n",
       "max      730.250000      1.503200      2.030200      1.217800      4.000000   \n",
       "\n",
       "               RSSI         Phase          Freq      Activity  \n",
       "count  52482.000000  52482.000000  52482.000000  52482.000000  \n",
       "mean     -58.430814      3.275907    922.762261      2.375996  \n",
       "std        4.611220      2.240341      1.693769      0.941795  \n",
       "min      -70.000000      0.000000    920.250000      1.000000  \n",
       "25%      -61.500000      0.951070    921.250000      1.000000  \n",
       "50%      -57.500000      4.072700    922.750000      3.000000  \n",
       "75%      -56.500000      5.425700    924.250000      3.000000  \n",
       "max      -38.500000      6.281700    925.750000      4.000000  "
      ]
     },
     "execution_count": 36,
     "metadata": {},
     "output_type": "execute_result"
    }
   ],
   "source": [
    "df1.describe()"
   ]
  },
  {
   "cell_type": "code",
   "execution_count": 28,
   "metadata": {},
   "outputs": [
    {
     "data": {
      "image/png": "[encoded data removed]",
      "text/plain": [
       "<Figure size 432x288 with 1 Axes>"
      ]
     },
     "metadata": {
      "needs_background": "light"
     },
     "output_type": "display_data"
    }
   ],
   "source": [
    "plt.hist(df1['id'],facecolor='green')\n",
    "plt.xlabel('id')\n",
    "plt.show()"
   ]
  },
  {
   "cell_type": "code",
   "execution_count": 30,
   "metadata": {},
   "outputs": [
    {
     "data": {
      "image/png": "[encoded data removed]",
      "text/plain": [
       "<Figure size 432x288 with 1 Axes>"
      ]
     },
     "metadata": {
      "needs_background": "light"
     },
     "output_type": "display_data"
    }
   ],
   "source": [
    "plt.hist(df1['Activity'],facecolor='blue')\n",
    "plt.xlabel('id')\n",
    "plt.show()"
   ]
  },
  {
   "cell_type": "code",
   "execution_count": 32,
   "metadata": {},
   "outputs": [
    {
     "data": {
      "text/html": [
       "<div>\n",
       "<style scoped>\n",
       "    .dataframe tbody tr th:only-of-type {\n",
       "        vertical-align: middle;\n",
       "    }\n",
       "\n",
       "    .dataframe tbody tr th {\n",
       "        vertical-align: top;\n",
       "    }\n",
       "\n",
       "    .dataframe thead th {\n",
       "        text-align: right;\n",
       "    }\n",
       "</style>\n",
       "<table border=\"1\" class=\"dataframe\">\n",
       "  <thead>\n",
       "    <tr style=\"text-align: right;\">\n",
       "      <th>Activity</th>\n",
       "      <th>1</th>\n",
       "      <th>2</th>\n",
       "      <th>3</th>\n",
       "      <th>4</th>\n",
       "    </tr>\n",
       "    <tr>\n",
       "      <th>id</th>\n",
       "      <th></th>\n",
       "      <th></th>\n",
       "      <th></th>\n",
       "      <th></th>\n",
       "    </tr>\n",
       "  </thead>\n",
       "  <tbody>\n",
       "    <tr>\n",
       "      <th>1</th>\n",
       "      <td>9660</td>\n",
       "      <td>552</td>\n",
       "      <td>10569</td>\n",
       "      <td>729</td>\n",
       "    </tr>\n",
       "    <tr>\n",
       "      <th>2</th>\n",
       "      <td>17</td>\n",
       "      <td>3828</td>\n",
       "      <td>11</td>\n",
       "      <td>873</td>\n",
       "    </tr>\n",
       "    <tr>\n",
       "      <th>3</th>\n",
       "      <td>1648</td>\n",
       "      <td>1</td>\n",
       "      <td>10316</td>\n",
       "      <td>78</td>\n",
       "    </tr>\n",
       "    <tr>\n",
       "      <th>4</th>\n",
       "      <td>3837</td>\n",
       "      <td>0</td>\n",
       "      <td>10087</td>\n",
       "      <td>276</td>\n",
       "    </tr>\n",
       "  </tbody>\n",
       "</table>\n",
       "</div>"
      ],
      "text/plain": [
       "Activity     1     2      3    4\n",
       "id                              \n",
       "1         9660   552  10569  729\n",
       "2           17  3828     11  873\n",
       "3         1648     1  10316   78\n",
       "4         3837     0  10087  276"
      ]
     },
     "execution_count": 32,
     "metadata": {},
     "output_type": "execute_result"
    }
   ],
   "source": [
    "pd.crosstab(df1.id, df1.Activity)"
   ]
  },
  {
   "cell_type": "code",
   "execution_count": 35,
   "metadata": {},
   "outputs": [
    {
     "data": {
      "image/png": "[encoded data removed]",
      "text/plain": [
       "<Figure size 4464x2160 with 1 Axes>"
      ]
     },
     "metadata": {},
     "output_type": "display_data"
    }
   ],
   "source": [
    "sb.set(style=\"whitegrid\")\n",
    "fig = plt.figure(figsize=(62,30))\n",
    "ax1 = fig.add_subplot(223)\n",
    "ax1 = sb.barplot(x=\"Activity\",y=\"id\", hue=\"Activity\", data=df1)"
   ]
  },
  {
   "cell_type": "markdown",
   "metadata": {},
   "source": [
    "## Implementation using inbuilt modules"
   ]
  },
  {
   "cell_type": "code",
   "execution_count": 8,
   "metadata": {},
   "outputs": [],
   "source": [
    "cols=len(df1.columns)-1\n",
    "df11=df1.values\n",
    "X=df11[:, :8]\n",
    "Y=df11[:,8]"
   ]
  },
  {
   "cell_type": "code",
   "execution_count": 9,
   "metadata": {},
   "outputs": [
    {
     "data": {
      "text/plain": [
       "((52482, 8), (52482,))"
      ]
     },
     "execution_count": 9,
     "metadata": {},
     "output_type": "execute_result"
    }
   ],
   "source": [
    "X.shape, Y.shape"
   ]
  },
  {
   "cell_type": "code",
   "execution_count": 11,
   "metadata": {},
   "outputs": [
    {
     "name": "stdout",
     "output_type": "stream",
     "text": [
      "[[ 0.00000000e+00  2.93631563e-04  1.08825991e-03 ... -6.85424559e-02\n",
      "   2.61778211e-03  9.97643541e-01]\n",
      " [ 5.41175984e-04  2.94432206e-04  1.09122725e-03 ... -6.81881739e-02\n",
      "   5.12699303e-03  9.97657926e-01]\n",
      " [ 1.61998019e-03  4.83736884e-04  9.89656697e-04 ... -6.85791613e-02\n",
      "   3.27354797e-03  9.97637799e-01]\n",
      " ...\n",
      " [ 4.64054952e-01  3.16054398e-04  9.08811718e-04 ... -5.78276511e-02\n",
      "   4.78430619e-03  8.83902815e-01]\n",
      " [ 4.65829320e-01  1.14107909e-04  7.86629014e-04 ... -5.34284525e-02\n",
      "   4.68329008e-03  8.83239105e-01]\n",
      " [ 4.67376010e-01  6.95187748e-05  1.26064817e-03 ... -5.40291449e-02\n",
      "   9.91649969e-04  8.82396344e-01]]\n"
     ]
    }
   ],
   "source": [
    "print(X)"
   ]
  },
  {
   "cell_type": "code",
   "execution_count": 12,
   "metadata": {},
   "outputs": [],
   "source": [
    "X_train,X_test,Y_train,Y_test=train_test_split(X,Y,test_size=0.25,random_state=0)"
   ]
  },
  {
   "cell_type": "markdown",
   "metadata": {},
   "source": [
    "### Logistic Regression"
   ]
  },
  {
   "cell_type": "code",
   "execution_count": 13,
   "metadata": {},
   "outputs": [
    {
     "name": "stdout",
     "output_type": "stream",
     "text": [
      "accuracy gsc=  0.5967532962426644\n",
      "LogisticRegression(C=1.0, class_weight=None, dual=False, fit_intercept=True,\n",
      "          intercept_scaling=1, max_iter=100, multi_class='warn',\n",
      "          n_jobs=None, penalty='l2', random_state=None, solver='sag',\n",
      "          tol=0.0001, verbose=0, warm_start=False)\n"
     ]
    }
   ],
   "source": [
    "# going for Logistic Regression\n",
    "lr=LogisticRegression()\n",
    "estimator={'solver':('newton-cg','liblinear','lbfgs','sag')}\n",
    "gsc=GridSearchCV(lr,estimator)\n",
    "gsc.fit(X_train,Y_train)\n",
    "y_gsc_pred=gsc.predict(X_test)\n",
    "print(\"accuracy gsc= \",accuracy_score(Y_test,y_gsc_pred))\n",
    "print(gsc.best_estimator_)\n"
   ]
  },
  {
   "cell_type": "markdown",
   "metadata": {},
   "source": [
    "### Decision Tree"
   ]
  },
  {
   "cell_type": "code",
   "execution_count": 16,
   "metadata": {},
   "outputs": [
    {
     "name": "stdout",
     "output_type": "stream",
     "text": [
      "Accuracy using the decision tree inbuilt module =  0.9907781419099154\n"
     ]
    }
   ],
   "source": [
    "clf = tree.DecisionTreeClassifier().fit(X_train, Y_train)\n",
    "predicted = clf.predict(X_test)\n",
    "print(\"Accuracy using the decision tree inbuilt module = \",accuracy_score(Y_test, predicted))\n",
    "#tree.plot_tree(clf) "
   ]
  },
  {
   "cell_type": "markdown",
   "metadata": {},
   "source": [
    "### Random Forest"
   ]
  },
  {
   "cell_type": "code",
   "execution_count": 18,
   "metadata": {},
   "outputs": [
    {
     "name": "stdout",
     "output_type": "stream",
     "text": [
      "accuracy Random Forest=  0.9932931941163021\n"
     ]
    }
   ],
   "source": [
    "# Going for Random Forest\n",
    "rforest=RandomForestClassifier()\n",
    "rforest.fit(X_train,Y_train)\n",
    "y_pred_rforest=rforest.predict(X_test)\n",
    "print(\"accuracy Random Forest= \",accuracy_score(Y_test,y_pred_rforest))"
   ]
  },
  {
   "cell_type": "markdown",
   "metadata": {},
   "source": [
    "## Implementation from scratch Logistic Regression"
   ]
  },
  {
   "cell_type": "code",
   "execution_count": 14,
   "metadata": {},
   "outputs": [],
   "source": [
    "def softmax(Z):\n",
    "    exp_Z = np.exp(Z)\n",
    "    softmax_probs = exp_Z/ np.sum(exp_Z, axis=1, keepdims = True) # [N X K]\n",
    "    return softmax_probs"
   ]
  },
  {
   "cell_type": "code",
   "execution_count": 15,
   "metadata": {},
   "outputs": [],
   "source": [
    "def loss(probs, num_examples, y):\n",
    "    correct_logprobs = -np.log(probs[range(num_examples),y])\n",
    "    data_loss = np.sum(correct_logprobs)/num_examples\n",
    "    return data_loss"
   ]
  },
  {
   "cell_type": "code",
   "execution_count": 18,
   "metadata": {},
   "outputs": [
    {
     "data": {
      "text/plain": [
       "(39361, 1)"
      ]
     },
     "execution_count": 18,
     "metadata": {},
     "output_type": "execute_result"
    }
   ],
   "source": [
    "y.reshape(-1,1).shape\n"
   ]
  },
  {
   "cell_type": "code",
   "execution_count": 20,
   "metadata": {},
   "outputs": [
    {
     "name": "stdout",
     "output_type": "stream",
     "text": [
      "(39361, 8) (39361,) (8, 5) (1, 5)\n",
      "iteration 0: loss 1.597975\n",
      "iteration 100: loss 1.020466\n",
      "iteration 200: loss 1.000407\n",
      "iteration 300: loss 0.990303\n",
      "iteration 400: loss 0.983244\n",
      "iteration 500: loss 0.977783\n",
      "iteration 600: loss 0.973369\n",
      "iteration 700: loss 0.969715\n",
      "iteration 800: loss 0.966647\n",
      "iteration 900: loss 0.964043\n",
      "iteration 1000: loss 0.961817\n",
      "iteration 1100: loss 0.959902\n"
     ]
    }
   ],
   "source": [
    "X = X_train\n",
    "y = Y_train\n",
    "y = y.astype('int')\n",
    "D = 8\n",
    "K=5\n",
    "\n",
    "W = 0.01 * np.random.randn(D,K)   # initialize parameters randomly\n",
    "b = np.zeros((1,K))\n",
    "print(X.shape, y.shape, W.shape, b.shape)\n",
    "alpha = 0.1\n",
    "num_examples = X.shape[0]\n",
    "\n",
    "for i in range(1101):\n",
    "  \n",
    "    Z = np.dot(X, W) + b \n",
    "    softmax_probs = softmax(Z)\n",
    "    data_loss = loss(softmax_probs, num_examples, y)\n",
    "    if i % 100 == 0:\n",
    "        print(\"iteration %d: loss %f\" % (i, data_loss))\n",
    "\n",
    "    dZ = softmax_probs\n",
    "    dZ[range(num_examples),y] -= 1\n",
    "    dZ /= num_examples\n",
    "\n",
    "    dW = np.dot(X.T, dZ)\n",
    "    db = np.sum(dZ, axis=0, keepdims=True)\n",
    "    W += -alpha * dW\n",
    "    b += -alpha * db"
   ]
  },
  {
   "cell_type": "code",
   "execution_count": 21,
   "metadata": {},
   "outputs": [
    {
     "name": "stdout",
     "output_type": "stream",
     "text": [
      "training accuracy: 0.58\n"
     ]
    }
   ],
   "source": [
    "scores = np.dot(X_test, W) + b\n",
    "predicted_class = np.argmax(scores, axis=1)\n",
    "print('training accuracy: %.2f' % (np.mean(predicted_class == Y_test)))"
   ]
  }
 ],
 "metadata": {
  "kernelspec": {
   "display_name": "Python 3",
   "language": "python",
   "name": "python3"
  },
  "language_info": {
   "codemirror_mode": {
    "name": "ipython",
    "version": 3
   },
   "file_extension": ".py",
   "mimetype": "text/x-python",
   "name": "python",
   "nbconvert_exporter": "python",
   "pygments_lexer": "ipython3",
   "version": "3.6.8"
  }
 },
 "nbformat": 4,
 "nbformat_minor": 2
}
