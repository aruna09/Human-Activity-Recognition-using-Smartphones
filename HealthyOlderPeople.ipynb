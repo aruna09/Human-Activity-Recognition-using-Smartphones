{
 "cells": [
  {
   "cell_type": "code",
   "execution_count": null,
   "metadata": {},
   "outputs": [],
   "source": [
    "import pandas as pd\n",
    "import numpy as np\n",
    "import glob\n",
    "from sklearn.preprocessing import Normalizer\n",
    "from sklearn.linear_model import LogisticRegression\n",
    "from sklearn.model_selection import train_test_split,GridSearchCV\n",
    "from sklearn.metrics import accuracy_score\n",
    "from sklearn.neighbors import KNeighborsClassifier\n",
    "from sklearn.ensemble import RandomForestClassifier"
   ]
  },
  {
   "cell_type": "code",
   "execution_count": 3,
   "metadata": {
    "collapsed": true
   },
   "outputs": [
    {
     "name": "stdout",
     "output_type": "stream",
     "text": [
      "['Datasets_Healthy_Older_People/S1_Dataset/d1p20F', 'Datasets_Healthy_Older_People/S1_Dataset/d1p25F', 'Datasets_Healthy_Older_People/S1_Dataset/d1p43M', 'Datasets_Healthy_Older_People/S1_Dataset/d1p10F', 'Datasets_Healthy_Older_People/S1_Dataset/d1p13F', 'Datasets_Healthy_Older_People/S1_Dataset/d1p44M', 'Datasets_Healthy_Older_People/S1_Dataset/d1p28F', 'Datasets_Healthy_Older_People/S1_Dataset/d1p11F', 'Datasets_Healthy_Older_People/S1_Dataset/d1p57F', 'Datasets_Healthy_Older_People/S1_Dataset/d1p17F', 'Datasets_Healthy_Older_People/S1_Dataset/d1p37M', 'Datasets_Healthy_Older_People/S1_Dataset/d1p59F', 'Datasets_Healthy_Older_People/S1_Dataset/d1p58F', 'Datasets_Healthy_Older_People/S1_Dataset/d1p53F', 'Datasets_Healthy_Older_People/S1_Dataset/d1p47M', 'Datasets_Healthy_Older_People/S1_Dataset/d1p60F', 'Datasets_Healthy_Older_People/S1_Dataset/d1p34F', 'Datasets_Healthy_Older_People/S1_Dataset/d1p32F', 'Datasets_Healthy_Older_People/S1_Dataset/d1p05M', 'Datasets_Healthy_Older_People/S1_Dataset/d1p14F', 'Datasets_Healthy_Older_People/S1_Dataset/d1p56F', 'Datasets_Healthy_Older_People/S1_Dataset/d1p03M', 'Datasets_Healthy_Older_People/S1_Dataset/d1p41M', 'Datasets_Healthy_Older_People/S1_Dataset/d1p06M', 'Datasets_Healthy_Older_People/S1_Dataset/d1p48M', 'Datasets_Healthy_Older_People/S1_Dataset/d1p01M', 'Datasets_Healthy_Older_People/S1_Dataset/d1p15F', 'Datasets_Healthy_Older_People/S1_Dataset/d1p49F', 'Datasets_Healthy_Older_People/S1_Dataset/d1p29F', 'Datasets_Healthy_Older_People/S1_Dataset/d1p42M', 'Datasets_Healthy_Older_People/S1_Dataset/d1p46M', 'Datasets_Healthy_Older_People/S1_Dataset/d1p40M', 'Datasets_Healthy_Older_People/S1_Dataset/d1p31F', 'Datasets_Healthy_Older_People/S1_Dataset/d1p45M', 'Datasets_Healthy_Older_People/S1_Dataset/d1p54F', 'Datasets_Healthy_Older_People/S1_Dataset/d1p19F', 'Datasets_Healthy_Older_People/S1_Dataset/d1p51F', 'Datasets_Healthy_Older_People/S1_Dataset/d1p50F', 'Datasets_Healthy_Older_People/S1_Dataset/d1p04M', 'Datasets_Healthy_Older_People/S1_Dataset/d1p39M', 'Datasets_Healthy_Older_People/S1_Dataset/d1p08F', 'Datasets_Healthy_Older_People/S1_Dataset/d1p02M', 'Datasets_Healthy_Older_People/S1_Dataset/d1p52F', 'Datasets_Healthy_Older_People/S1_Dataset/d1p23F', 'Datasets_Healthy_Older_People/S1_Dataset/d1p24F', 'Datasets_Healthy_Older_People/S1_Dataset/d1p21F', 'Datasets_Healthy_Older_People/S1_Dataset/d1p26F', 'Datasets_Healthy_Older_People/S1_Dataset/d1p55F', 'Datasets_Healthy_Older_People/S1_Dataset/d1p35F', 'Datasets_Healthy_Older_People/S1_Dataset/d1p12F', 'Datasets_Healthy_Older_People/S1_Dataset/d1p09F', 'Datasets_Healthy_Older_People/S1_Dataset/d1p38M', 'Datasets_Healthy_Older_People/S1_Dataset/d1p07M', 'Datasets_Healthy_Older_People/S1_Dataset/d1p22F', 'Datasets_Healthy_Older_People/S1_Dataset/d1p16F', 'Datasets_Healthy_Older_People/S1_Dataset/README.txt', 'Datasets_Healthy_Older_People/S1_Dataset/d1p33F', 'Datasets_Healthy_Older_People/S1_Dataset/d1p27F', 'Datasets_Healthy_Older_People/S1_Dataset/d1p36M', 'Datasets_Healthy_Older_People/S1_Dataset/d1p30F', 'Datasets_Healthy_Older_People/S1_Dataset/d1p18F']\n"
     ]
    }
   ],
   "source": [
    "#find all files in the S1_Dataset. Note:- remove the readme file.\n",
    "path=r'Datasets_Healthy_Older_People/S1_Dataset'\n",
    "all_files=glob.glob(path+'/*')\n",
    "print(all_files)"
   ]
  },
  {
   "cell_type": "code",
   "execution_count": 4,
   "metadata": {},
   "outputs": [],
   "source": [
    "li=[]\n",
    "for file in all_files:\n",
    "    #print(file)\n",
    "    if file.endswith('.txt'):\n",
    "        continue\n",
    "    df=pd.read_csv(file,header=None,index_col=None)\n",
    "    li.append(df)\n",
    "df1=pd.concat(li,axis=0,ignore_index=True)\n"
   ]
  },
  {
   "cell_type": "code",
   "execution_count": 5,
   "metadata": {},
   "outputs": [
    {
     "data": {
      "text/html": [
       "<div>\n",
       "<style scoped>\n",
       "    .dataframe tbody tr th:only-of-type {\n",
       "        vertical-align: middle;\n",
       "    }\n",
       "\n",
       "    .dataframe tbody tr th {\n",
       "        vertical-align: top;\n",
       "    }\n",
       "\n",
       "    .dataframe thead th {\n",
       "        text-align: right;\n",
       "    }\n",
       "</style>\n",
       "<table border=\"1\" class=\"dataframe\">\n",
       "  <thead>\n",
       "    <tr style=\"text-align: right;\">\n",
       "      <th></th>\n",
       "      <th>Time</th>\n",
       "      <th>Acc. Front</th>\n",
       "      <th>Acc. vert</th>\n",
       "      <th>Acc. Lat</th>\n",
       "      <th>id</th>\n",
       "      <th>RSSI</th>\n",
       "      <th>Phase</th>\n",
       "      <th>Freq</th>\n",
       "      <th>Activity Label</th>\n",
       "    </tr>\n",
       "  </thead>\n",
       "  <tbody>\n",
       "    <tr>\n",
       "      <th>0</th>\n",
       "      <td>0.00</td>\n",
       "      <td>0.83485</td>\n",
       "      <td>0.14698</td>\n",
       "      <td>0.61348</td>\n",
       "      <td>4</td>\n",
       "      <td>-56.0</td>\n",
       "      <td>0.74551</td>\n",
       "      <td>924.25</td>\n",
       "      <td>3</td>\n",
       "    </tr>\n",
       "    <tr>\n",
       "      <th>1</th>\n",
       "      <td>0.25</td>\n",
       "      <td>0.83485</td>\n",
       "      <td>0.14698</td>\n",
       "      <td>0.61348</td>\n",
       "      <td>4</td>\n",
       "      <td>-56.0</td>\n",
       "      <td>1.14740</td>\n",
       "      <td>923.25</td>\n",
       "      <td>3</td>\n",
       "    </tr>\n",
       "    <tr>\n",
       "      <th>2</th>\n",
       "      <td>0.75</td>\n",
       "      <td>0.83485</td>\n",
       "      <td>0.14698</td>\n",
       "      <td>0.61348</td>\n",
       "      <td>4</td>\n",
       "      <td>-57.5</td>\n",
       "      <td>4.81520</td>\n",
       "      <td>921.75</td>\n",
       "      <td>3</td>\n",
       "    </tr>\n",
       "    <tr>\n",
       "      <th>3</th>\n",
       "      <td>1.00</td>\n",
       "      <td>0.83485</td>\n",
       "      <td>0.14698</td>\n",
       "      <td>0.61348</td>\n",
       "      <td>4</td>\n",
       "      <td>-54.0</td>\n",
       "      <td>5.37970</td>\n",
       "      <td>925.75</td>\n",
       "      <td>3</td>\n",
       "    </tr>\n",
       "    <tr>\n",
       "      <th>4</th>\n",
       "      <td>1.25</td>\n",
       "      <td>0.83485</td>\n",
       "      <td>0.14698</td>\n",
       "      <td>0.61348</td>\n",
       "      <td>4</td>\n",
       "      <td>-57.5</td>\n",
       "      <td>1.33610</td>\n",
       "      <td>922.25</td>\n",
       "      <td>3</td>\n",
       "    </tr>\n",
       "  </tbody>\n",
       "</table>\n",
       "</div>"
      ],
      "text/plain": [
       "   Time  Acc. Front  Acc. vert  Acc. Lat  id  RSSI    Phase    Freq  \\\n",
       "0  0.00     0.83485    0.14698   0.61348   4 -56.0  0.74551  924.25   \n",
       "1  0.25     0.83485    0.14698   0.61348   4 -56.0  1.14740  923.25   \n",
       "2  0.75     0.83485    0.14698   0.61348   4 -57.5  4.81520  921.75   \n",
       "3  1.00     0.83485    0.14698   0.61348   4 -54.0  5.37970  925.75   \n",
       "4  1.25     0.83485    0.14698   0.61348   4 -57.5  1.33610  922.25   \n",
       "\n",
       "   Activity Label  \n",
       "0               3  \n",
       "1               3  \n",
       "2               3  \n",
       "3               3  \n",
       "4               3  "
      ]
     },
     "execution_count": 5,
     "metadata": {},
     "output_type": "execute_result"
    }
   ],
   "source": [
    "df1.columns=['Time','Acc. Front','Acc. vert','Acc. Lat','id','RSSI','Phase','Freq','Activity Label']\n",
    "df1.head()\n"
   ]
  },
  {
   "cell_type": "code",
   "execution_count": 6,
   "metadata": {},
   "outputs": [
    {
     "data": {
      "text/plain": [
       "False"
      ]
     },
     "execution_count": 6,
     "metadata": {},
     "output_type": "execute_result"
    }
   ],
   "source": [
    "#check for null\n",
    "df1.isnull().values.any()"
   ]
  },
  {
   "cell_type": "code",
   "execution_count": 7,
   "metadata": {},
   "outputs": [],
   "source": [
    "cols=len(df1.columns)-1\n",
    "df11=df1.values\n",
    "X=df11[:, :8]\n",
    "Y=df11[:,8]"
   ]
  },
  {
   "cell_type": "code",
   "execution_count": 8,
   "metadata": {},
   "outputs": [],
   "source": [
    "#Standardize the inputs\n",
    "normalize=Normalizer()\n",
    "X=normalize.fit_transform(X)\n"
   ]
  },
  {
   "cell_type": "code",
   "execution_count": 9,
   "metadata": {},
   "outputs": [
    {
     "name": "stdout",
     "output_type": "stream",
     "text": [
      "[[ 0.00000000e+00  9.01610188e-04  1.58733504e-04 ... -6.04781345e-02\n",
      "   8.05125965e-04  9.98159210e-01]\n",
      " [ 2.70282900e-04  9.02582718e-04  1.58904723e-04 ... -6.05433697e-02\n",
      "   1.24049040e-03  9.98154751e-01]\n",
      " [ 8.12071643e-04  9.03944014e-04  1.59144387e-04 ... -6.22588259e-02\n",
      "   5.21371650e-03  9.98036049e-01]\n",
      " ...\n",
      " [ 2.69810969e-01  7.97951590e-04  2.13343761e-04 ... -6.78441509e-02\n",
      "   2.21276307e-03  9.60516613e-01]\n",
      " [ 2.69996419e-01  1.01696914e-03  9.33718504e-05 ... -6.15049757e-02\n",
      "   3.54998380e-04  9.60884939e-01]\n",
      " [ 2.73056765e-01  1.01381742e-03  9.30824792e-05 ... -6.18339773e-02\n",
      "   6.45473977e-03  9.59985488e-01]]\n"
     ]
    }
   ],
   "source": [
    "print(X)"
   ]
  },
  {
   "cell_type": "code",
   "execution_count": 10,
   "metadata": {},
   "outputs": [],
   "source": [
    "X_train,X_test,Y_train,Y_test=train_test_split(X,Y,test_size=0.25,random_state=0)"
   ]
  },
  {
   "cell_type": "code",
   "execution_count": 11,
   "metadata": {
    "collapsed": true
   },
   "outputs": [
    {
     "name": "stderr",
     "output_type": "stream",
     "text": [
      "/home/aruna13/.local/lib/python3.6/site-packages/sklearn/model_selection/_split.py:1978: FutureWarning: The default value of cv will change from 3 to 5 in version 0.22. Specify it explicitly to silence this warning.\n",
      "  warnings.warn(CV_WARNING, FutureWarning)\n",
      "/home/aruna13/.local/lib/python3.6/site-packages/sklearn/linear_model/logistic.py:469: FutureWarning: Default multi_class will be changed to 'auto' in 0.22. Specify the multi_class option to silence this warning.\n",
      "  \"this warning.\", FutureWarning)\n",
      "/home/aruna13/.local/lib/python3.6/site-packages/sklearn/linear_model/logistic.py:469: FutureWarning: Default multi_class will be changed to 'auto' in 0.22. Specify the multi_class option to silence this warning.\n",
      "  \"this warning.\", FutureWarning)\n",
      "/home/aruna13/.local/lib/python3.6/site-packages/sklearn/linear_model/logistic.py:469: FutureWarning: Default multi_class will be changed to 'auto' in 0.22. Specify the multi_class option to silence this warning.\n",
      "  \"this warning.\", FutureWarning)\n",
      "/home/aruna13/.local/lib/python3.6/site-packages/sklearn/linear_model/logistic.py:469: FutureWarning: Default multi_class will be changed to 'auto' in 0.22. Specify the multi_class option to silence this warning.\n",
      "  \"this warning.\", FutureWarning)\n",
      "/home/aruna13/.local/lib/python3.6/site-packages/sklearn/linear_model/logistic.py:469: FutureWarning: Default multi_class will be changed to 'auto' in 0.22. Specify the multi_class option to silence this warning.\n",
      "  \"this warning.\", FutureWarning)\n",
      "/home/aruna13/.local/lib/python3.6/site-packages/sklearn/linear_model/logistic.py:469: FutureWarning: Default multi_class will be changed to 'auto' in 0.22. Specify the multi_class option to silence this warning.\n",
      "  \"this warning.\", FutureWarning)\n",
      "/home/aruna13/.local/lib/python3.6/site-packages/sklearn/linear_model/logistic.py:469: FutureWarning: Default multi_class will be changed to 'auto' in 0.22. Specify the multi_class option to silence this warning.\n",
      "  \"this warning.\", FutureWarning)\n",
      "/home/aruna13/.local/lib/python3.6/site-packages/sklearn/linear_model/logistic.py:469: FutureWarning: Default multi_class will be changed to 'auto' in 0.22. Specify the multi_class option to silence this warning.\n",
      "  \"this warning.\", FutureWarning)\n",
      "/home/aruna13/.local/lib/python3.6/site-packages/sklearn/linear_model/logistic.py:469: FutureWarning: Default multi_class will be changed to 'auto' in 0.22. Specify the multi_class option to silence this warning.\n",
      "  \"this warning.\", FutureWarning)\n",
      "/home/aruna13/.local/lib/python3.6/site-packages/sklearn/linear_model/logistic.py:469: FutureWarning: Default multi_class will be changed to 'auto' in 0.22. Specify the multi_class option to silence this warning.\n",
      "  \"this warning.\", FutureWarning)\n",
      "/home/aruna13/.local/lib/python3.6/site-packages/sklearn/linear_model/logistic.py:469: FutureWarning: Default multi_class will be changed to 'auto' in 0.22. Specify the multi_class option to silence this warning.\n",
      "  \"this warning.\", FutureWarning)\n",
      "/home/aruna13/.local/lib/python3.6/site-packages/sklearn/linear_model/logistic.py:469: FutureWarning: Default multi_class will be changed to 'auto' in 0.22. Specify the multi_class option to silence this warning.\n",
      "  \"this warning.\", FutureWarning)\n",
      "/home/aruna13/.local/lib/python3.6/site-packages/sklearn/linear_model/logistic.py:469: FutureWarning: Default multi_class will be changed to 'auto' in 0.22. Specify the multi_class option to silence this warning.\n",
      "  \"this warning.\", FutureWarning)\n"
     ]
    },
    {
     "name": "stdout",
     "output_type": "stream",
     "text": [
      "accuracy gsc=  0.5956100906943068\n",
      "LogisticRegression(C=1.0, class_weight=None, dual=False, fit_intercept=True,\n",
      "                   intercept_scaling=1, l1_ratio=None, max_iter=100,\n",
      "                   multi_class='warn', n_jobs=None, penalty='l2',\n",
      "                   random_state=None, solver='lbfgs', tol=0.0001, verbose=0,\n",
      "                   warm_start=False)\n"
     ]
    }
   ],
   "source": [
    "# going for Logistic Regression\n",
    "lr=LogisticRegression()\n",
    "estimator={'solver':('newton-cg','liblinear','lbfgs','sag')}\n",
    "gsc=GridSearchCV(lr,estimator)\n",
    "gsc.fit(X_train,Y_train)\n",
    "y_gsc_pred=gsc.predict(X_test)\n",
    "print(\"accuracy gsc= \",accuracy_score(Y_test,y_gsc_pred))\n",
    "print(gsc.best_estimator_)\n"
   ]
  },
  {
   "cell_type": "code",
   "execution_count": 12,
   "metadata": {},
   "outputs": [
    {
     "name": "stdout",
     "output_type": "stream",
     "text": [
      "accuracy KNN=  0.9160887127505526\n"
     ]
    }
   ],
   "source": [
    "# Going for KNN\n",
    "knn=KNeighborsClassifier(n_neighbors=5)\n",
    "knn.fit(X_train,Y_train)\n",
    "y_pred_knn=knn.predict(X_test)\n",
    "print(\"accuracy KNN= \",accuracy_score(Y_test,y_pred_knn))"
   ]
  },
  {
   "cell_type": "code",
   "execution_count": 13,
   "metadata": {},
   "outputs": [
    {
     "name": "stderr",
     "output_type": "stream",
     "text": [
      "/home/aruna13/.local/lib/python3.6/site-packages/sklearn/ensemble/forest.py:245: FutureWarning: The default value of n_estimators will change from 10 in version 0.20 to 100 in 0.22.\n",
      "  \"10 in version 0.20 to 100 in 0.22.\", FutureWarning)\n"
     ]
    },
    {
     "name": "stdout",
     "output_type": "stream",
     "text": [
      "accuracy Random Forest=  0.9920737748647207\n"
     ]
    }
   ],
   "source": [
    "# Going for Random Forest\n",
    "rforest=RandomForestClassifier()\n",
    "rforest.fit(X_train,Y_train)\n",
    "y_pred_rforest=rforest.predict(X_test)\n",
    "print(\"accuracy Random Forest= \",accuracy_score(Y_test,y_pred_rforest))"
   ]
  }
 ],
 "metadata": {
  "kernelspec": {
   "display_name": "Python 3",
   "language": "python",
   "name": "python3"
  },
  "language_info": {
   "codemirror_mode": {
    "name": "ipython",
    "version": 3
   },
   "file_extension": ".py",
   "mimetype": "text/x-python",
   "name": "python",
   "nbconvert_exporter": "python",
   "pygments_lexer": "ipython3",
   "version": "3.6.8"
  }
 },
 "nbformat": 4,
 "nbformat_minor": 2
}
